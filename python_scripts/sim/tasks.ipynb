{
 "cells": [
  {
   "cell_type": "markdown",
   "metadata": {},
   "source": [
    "# Tasks generation"
   ]
  },
  {
   "cell_type": "markdown",
   "metadata": {},
   "source": [
    "The purpose of this notebook is to generate different task sets to be executed by the MATLAB simulation."
   ]
  },
  {
   "cell_type": "code",
   "execution_count": 1,
   "metadata": {},
   "outputs": [],
   "source": [
    "import random\n",
    "import csv"
   ]
  },
  {
   "cell_type": "code",
   "execution_count": 65,
   "metadata": {},
   "outputs": [],
   "source": [
    "# constants\n",
    "# number of tasks\n",
    "NUM_TASKS = 7\n",
    "# maximum total weight\n",
    "MAX_WEIGHT = 100\n",
    "# minimum total weight\n",
    "MIN_WEIGHT = 50\n",
    "# maximum weight of a single task\n",
    "MAX_TASK_WEIGHT = round(MAX_WEIGHT / NUM_TASKS)\n",
    "# minimum weight of a single task\n",
    "MIN_TASK_WEIGHT = round(MIN_WEIGHT / NUM_TASKS)\n",
    "\n",
    "# heater task fixed parameters\n",
    "HEATER_TASK_WEIGHT = 10\n",
    "HEATER_TASK_PERIOD = 20\n",
    "HEATER_TASK_TIME = 1"
   ]
  },
  {
   "cell_type": "code",
   "execution_count": 50,
   "metadata": {},
   "outputs": [
    {
     "name": "stdout",
     "output_type": "stream",
     "text": [
      "tasks_periods: [55, 69, 84, 81, 13, 72, 20]\n",
      "tasks_weights: [7, 12, 13, 11, 13, 8, 10]\n",
      "tasks_times: [4, 3, 10, 8, 3, 6, 1]\n",
      "sum of weigths: 74\n"
     ]
    }
   ],
   "source": [
    "tasks_periods = []\n",
    "tasks_weights = []\n",
    "tasks_times = []\n",
    "\n",
    "for i in range(NUM_TASKS-1):\n",
    "    tasks_periods.append(random.randint(10, 100))\n",
    "    tasks_times.append(random.randint(1, 10))\n",
    "    tasks_weights.append(random.randint(MIN_TASK_WEIGHT, MAX_TASK_WEIGHT))\n",
    "while sum(tasks_weights) > MAX_WEIGHT:\n",
    "    _index = random.randint(0, NUM_TASKS-1)\n",
    "    if tasks_weights[_index] > 1:\n",
    "        tasks_weights[_index] -= 1\n",
    "while sum(tasks_weights) < MIN_WEIGHT:\n",
    "    tasks_weights[random.randint(0, NUM_TASKS-1)] += 1\n",
    "\n",
    "# append heater task at the end\n",
    "tasks_periods.append(HEATER_TASK_PERIOD)\n",
    "tasks_times.append(HEATER_TASK_TIME)\n",
    "tasks_weights.append(HEATER_TASK_WEIGHT)\n",
    "\n",
    "print(\"tasks_periods:\", tasks_periods)\n",
    "print(\"tasks_weights:\", tasks_weights)\n",
    "print(\"tasks_times:\", tasks_times)\n",
    "print(\"sum of weigths:\", sum(tasks_weights))"
   ]
  },
  {
   "cell_type": "code",
   "execution_count": 95,
   "metadata": {},
   "outputs": [],
   "source": [
    "set_number = 11"
   ]
  },
  {
   "cell_type": "code",
   "execution_count": 97,
   "metadata": {},
   "outputs": [],
   "source": [
    "# export to csv\n",
    "with open('tasks/tasks' + str(set_number) + '.csv', 'w', newline='') as csvfile:\n",
    "    writer = csv.writer(csvfile, delimiter=',')\n",
    "    writer.writerow(['period', 'weight', 'time'])\n",
    "    if set_number == 11:\n",
    "        for i in range(35):\n",
    "            writer.writerow([tasks_periods[i], tasks_weights[i], tasks_times[i]])\n",
    "    else:\n",
    "        for i in range(NUM_TASKS):\n",
    "            writer.writerow([tasks_periods[i], tasks_weights[i], tasks_times[i]])"
   ]
  },
  {
   "cell_type": "code",
   "execution_count": 96,
   "metadata": {},
   "outputs": [
    {
     "name": "stdout",
     "output_type": "stream",
     "text": [
      "tasks_periods: [350, 350, 50, 50, 50, 10, 10, 10, 10, 4320, 5400, 1200, 10, 5, 20, 10, 10, 10, 10, 10, 10, 20, 5, 5, 10, 4320, 5, 10, 10, 4320, 120, 5, 10, 1000, 5]\n",
      "tasks_weights: [1500, 2000, 12, 1, 5, 6, 24, 24, 165, 1, 1750, 750, 375, 0, 1, 3, 3, 3, 1, 16, 1, 750, 30, 24, 26, 24, 0, 1, 24, 1, 750, 24, 375, 1, 0]\n",
      "tasks_times: [20, 20, 10, 2, 2, 1, 2, 1, 1, 5, 120, 50, 1, 1, 5, 1, 1, 1, 2, 1, 1, 1, 2, 2, 3, 2, 1, 2, 1, 5, 2, 1, 1, 1, 1]\n",
      "sum of weigths: 8671\n"
     ]
    }
   ],
   "source": [
    "# import tasks from csv\n",
    "with open('tasks/tasks' + str(set_number) + '.csv', newline='') as csvfile:\n",
    "    reader = csv.reader(csvfile, delimiter=',')\n",
    "    tasks_periods = []\n",
    "    tasks_weights = []\n",
    "    tasks_times = []\n",
    "    value = 0\n",
    "    for row in reader:\n",
    "        tasks_periods.append(int(row[0]))\n",
    "        tasks_weights.append(int(row[1]))\n",
    "        tasks_times.append(int(row[2]))\n",
    "print(\"tasks_periods:\", tasks_periods)\n",
    "print(\"tasks_weights:\", tasks_weights)\n",
    "print(\"tasks_times:\", tasks_times)\n",
    "print(\"sum of weigths:\", sum(tasks_weights))"
   ]
  },
  {
   "cell_type": "code",
   "execution_count": 99,
   "metadata": {},
   "outputs": [
    {
     "name": "stdout",
     "output_type": "stream",
     "text": [
      "405.84448939627066\n",
      "953.4000289981152\n",
      "185.2646186145656\n",
      "527.8230984701573\n",
      "401.37501254726135\n",
      "308.71096096096096\n",
      "628.5313672450553\n",
      "709.7726626882637\n",
      "313.7920563000096\n",
      "315.2308726376754\n",
      "461.94331481481487\n",
      "mean value: 474.97451678583354\n"
     ]
    }
   ],
   "source": [
    "mean_value = 0\n",
    "for i in range(1, 12):\n",
    "    # import tasks from csv\n",
    "    with open('tasks/tasks' + str(i) + '.csv', newline='') as csvfile:\n",
    "        reader = csv.reader(csvfile, delimiter=',')\n",
    "        tasks_periods = []\n",
    "        tasks_weights = []\n",
    "        tasks_times = []\n",
    "        value = 0\n",
    "        #skip first row\n",
    "        next(reader)\n",
    "        for row in reader:\n",
    "            value += (int(row[1]) * int(row[2]) / int(row[0]))\n",
    "    if i < 11:\n",
    "        mean_value += value\n",
    "    print(value)\n",
    "mean_value /= 10\n",
    "print(\"mean value:\", mean_value)"
   ]
  }
 ],
 "metadata": {
  "interpreter": {
   "hash": "735fd90a47749e3d8aef9bbc1d196bfbcc60e5c47746d2d32e6f03ac88616da3"
  },
  "kernelspec": {
   "display_name": "Python 3.10.0 64-bit",
   "language": "python",
   "name": "python3"
  },
  "language_info": {
   "codemirror_mode": {
    "name": "ipython",
    "version": 3
   },
   "file_extension": ".py",
   "mimetype": "text/x-python",
   "name": "python",
   "nbconvert_exporter": "python",
   "pygments_lexer": "ipython3",
   "version": "3.10.4"
  },
  "orig_nbformat": 4
 },
 "nbformat": 4,
 "nbformat_minor": 2
}
