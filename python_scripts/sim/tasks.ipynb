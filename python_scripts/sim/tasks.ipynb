{
 "cells": [
  {
   "cell_type": "markdown",
   "metadata": {},
   "source": [
    "# Tasks generation"
   ]
  },
  {
   "cell_type": "markdown",
   "metadata": {},
   "source": [
    "The purpose of this notebook is to generate different task sets to be executed by the MATLAB simulation."
   ]
  },
  {
   "cell_type": "code",
   "execution_count": 36,
   "metadata": {},
   "outputs": [],
   "source": [
    "import random\n",
    "import csv"
   ]
  },
  {
   "cell_type": "code",
   "execution_count": 3,
   "metadata": {},
   "outputs": [],
   "source": [
    "# constants\n",
    "# number of tasks\n",
    "NUM_TASKS = 7\n",
    "# maximum total weight\n",
    "MAX_WEIGHT = 100\n",
    "# minimum total weight\n",
    "MIN_WEIGHT = 50\n",
    "# maximum weight of a single task\n",
    "MAX_TASK_WEIGHT = round(MAX_WEIGHT / NUM_TASKS)\n",
    "# minimum weight of a single task\n",
    "MIN_TASK_WEIGHT = round(MIN_WEIGHT / NUM_TASKS)\n",
    "\n",
    "# heater task fixed parameters\n",
    "HEATER_TASK_WEIGHT = 10\n",
    "HEATER_TASK_PERIOD = 20\n",
    "HEATER_TASK_TIME = 1\n"
   ]
  },
  {
   "cell_type": "code",
   "execution_count": 50,
   "metadata": {},
   "outputs": [
    {
     "name": "stdout",
     "output_type": "stream",
     "text": [
      "tasks_periods: [55, 69, 84, 81, 13, 72, 20]\n",
      "tasks_weights: [7, 12, 13, 11, 13, 8, 10]\n",
      "tasks_times: [4, 3, 10, 8, 3, 6, 1]\n",
      "sum of weigths: 74\n"
     ]
    }
   ],
   "source": [
    "tasks_periods = []\n",
    "tasks_weights = []\n",
    "tasks_times = []\n",
    "\n",
    "for i in range(NUM_TASKS-1):\n",
    "    tasks_periods.append(random.randint(10, 100))\n",
    "    tasks_times.append(random.randint(1, 10))\n",
    "    tasks_weights.append(random.randint(MIN_TASK_WEIGHT, MAX_TASK_WEIGHT))\n",
    "while sum(tasks_weights) > MAX_WEIGHT:\n",
    "    _index = random.randint(0, NUM_TASKS-1)\n",
    "    if tasks_weights[_index] > 1:\n",
    "        tasks_weights[_index] -= 1\n",
    "while sum(tasks_weights) < MIN_WEIGHT:\n",
    "    tasks_weights[random.randint(0, NUM_TASKS-1)] += 1\n",
    "\n",
    "# append heater task at the end\n",
    "tasks_periods.append(HEATER_TASK_PERIOD)\n",
    "tasks_times.append(HEATER_TASK_TIME)\n",
    "tasks_weights.append(HEATER_TASK_WEIGHT)\n",
    "\n",
    "print(\"tasks_periods:\", tasks_periods)\n",
    "print(\"tasks_weights:\", tasks_weights)\n",
    "print(\"tasks_times:\", tasks_times)\n",
    "print(\"sum of weigths:\", sum(tasks_weights))"
   ]
  },
  {
   "cell_type": "code",
   "execution_count": 49,
   "metadata": {},
   "outputs": [],
   "source": [
    "set_number = 10"
   ]
  },
  {
   "cell_type": "code",
   "execution_count": 51,
   "metadata": {},
   "outputs": [],
   "source": [
    "# export to csv\n",
    "with open('tasks/tasks' + str(set_number) + '.csv', 'w', newline='') as csvfile:\n",
    "    writer = csv.writer(csvfile, delimiter=',')\n",
    "    writer.writerow(['period', 'weight', 'time'])\n",
    "    for i in range(NUM_TASKS):\n",
    "        writer.writerow([tasks_periods[i], tasks_weights[i], tasks_times[i]])"
   ]
  },
  {
   "cell_type": "code",
   "execution_count": null,
   "metadata": {},
   "outputs": [],
   "source": [
    "\n",
    "# import tasks from csv\n",
    "with open('tasks/tasks' + str(set_number) + '.csv', newline='') as csvfile:\n",
    "    reader = csv.reader(csvfile, delimiter=',')\n",
    "    tasks_periods = []\n",
    "    tasks_weights = []\n",
    "    tasks_times = []\n",
    "    for row in reader:\n",
    "        tasks_periods.append(int(row[0]))\n",
    "        tasks_weights.append(int(row[1]))\n",
    "        tasks_times.append(int(row[2]))"
   ]
  }
 ],
 "metadata": {
  "interpreter": {
   "hash": "8b0f1b50f23810d4dc696e169baad8ec381f9be9f08cfceabb197fdec00cfe5b"
  },
  "kernelspec": {
   "display_name": "Python 3.10.0 64-bit",
   "language": "python",
   "name": "python3"
  },
  "language_info": {
   "codemirror_mode": {
    "name": "ipython",
    "version": 3
   },
   "file_extension": ".py",
   "mimetype": "text/x-python",
   "name": "python",
   "nbconvert_exporter": "python",
   "pygments_lexer": "ipython3",
   "version": "3.10.0"
  },
  "orig_nbformat": 4
 },
 "nbformat": 4,
 "nbformat_minor": 2
}
