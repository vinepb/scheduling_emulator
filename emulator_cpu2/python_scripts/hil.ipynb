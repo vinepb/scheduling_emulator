{
 "cells": [
  {
   "cell_type": "markdown",
   "metadata": {},
   "source": [
    "# Hardware in the loop"
   ]
  },
  {
   "cell_type": "code",
   "execution_count": 3,
   "metadata": {},
   "outputs": [],
   "source": [
    "import serial"
   ]
  },
  {
   "cell_type": "markdown",
   "metadata": {},
   "source": [
    "### Find maximum number of tasks"
   ]
  },
  {
   "cell_type": "code",
   "execution_count": null,
   "metadata": {},
   "outputs": [],
   "source": [
    "number_of_tasks = 7\n",
    "\n",
    "s = serial.Serial('COM4', 9600, timeout=5)\n",
    "\n",
    "txData = [50, 30]\n",
    "for j in range(10):\n",
    "    rxData = []\n",
    "    for i in range(len(txData)):\n",
    "        s.write(bytes([txData[i]]))\n",
    "    for i in range(number_of_tasks):\n",
    "        rxData.append(s.read())\n",
    "    print(rxData)\n",
    "\n",
    "s.close()"
   ]
  },
  {
   "cell_type": "markdown",
   "metadata": {},
   "source": [
    "Magical number is: <b>7</b>"
   ]
  },
  {
   "cell_type": "markdown",
   "metadata": {},
   "source": [
    "### Time vs number of tasks"
   ]
  },
  {
   "cell_type": "code",
   "execution_count": 1,
   "metadata": {},
   "outputs": [],
   "source": [
    "import time"
   ]
  },
  {
   "cell_type": "code",
   "execution_count": 82,
   "metadata": {},
   "outputs": [],
   "source": [
    "selected_task_set_size = 7\n",
    "selected_task_set_from_size = 9\n",
    "\n",
    "num_of_iterations = 100\n",
    "\n",
    "file_name = \"./times/hil_n\" + str(selected_task_set_size) + \"_case_\" + str(selected_task_set_from_size) + \".txt\"\n",
    "\n",
    "T_HIL = []\n",
    "txData = 50\n",
    "\n",
    "s = serial.Serial('COM4', 9600, timeout=5)\n",
    "\n",
    "for j in range(num_of_iterations + 1):\n",
    "    rxData = []\n",
    "    start_time = time.time()\n",
    "    s.write(bytes([txData]))\n",
    "    for i in range(selected_task_set_size):\n",
    "        rxData.append(s.read())\n",
    "    end_time = time.time()\n",
    "    if j > 0:\n",
    "        T_HIL.append(round((end_time - start_time) * 1000000))\n",
    "s.close()\n",
    "\n",
    "T_HIL_avrg = round(sum(T_HIL) / len(T_HIL))\n",
    "f = open(file_name, \"w+\")\n",
    "f.write(str(T_HIL_avrg) + \";\\n\")\n",
    "for i in range(len(T_HIL)):\n",
    "    if i == len(T_HIL) - 1:\n",
    "        f.write(str(T_HIL[i]) + \";\")\n",
    "    else:\n",
    "        f.write(str(T_HIL[i]) + \",\")\n",
    "f.close()\n",
    "    "
   ]
  },
  {
   "cell_type": "code",
   "execution_count": 35,
   "metadata": {},
   "outputs": [],
   "source": [
    "# Use to close serial when fail\n",
    "s.close()"
   ]
  }
 ],
 "metadata": {
  "interpreter": {
   "hash": "8b0f1b50f23810d4dc696e169baad8ec381f9be9f08cfceabb197fdec00cfe5b"
  },
  "kernelspec": {
   "display_name": "Python 3.10.0 64-bit",
   "language": "python",
   "name": "python3"
  },
  "language_info": {
   "codemirror_mode": {
    "name": "ipython",
    "version": 3
   },
   "file_extension": ".py",
   "mimetype": "text/x-python",
   "name": "python",
   "nbconvert_exporter": "python",
   "pygments_lexer": "ipython3",
   "version": "3.10.0"
  },
  "orig_nbformat": 4
 },
 "nbformat": 4,
 "nbformat_minor": 2
}
