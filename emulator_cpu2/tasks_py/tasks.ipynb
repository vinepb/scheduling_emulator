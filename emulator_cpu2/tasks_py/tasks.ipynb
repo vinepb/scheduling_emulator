{
 "cells": [
  {
   "cell_type": "markdown",
   "metadata": {},
   "source": [
    "# Performance evaluation"
   ]
  },
  {
   "cell_type": "markdown",
   "metadata": {},
   "source": [
    "## Tasks generation"
   ]
  },
  {
   "cell_type": "code",
   "execution_count": 1,
   "metadata": {},
   "outputs": [],
   "source": [
    "# import random number generator\n",
    "import random"
   ]
  },
  {
   "cell_type": "code",
   "execution_count": 2,
   "metadata": {},
   "outputs": [],
   "source": [
    "task_set_size_min = 2\n",
    "task_set_size_max = 30\n",
    "sets_per_size = 1\n",
    "\n",
    "task_set_weight_lower_bound = 50\n",
    "task_set_weight_upper_bound = 100\n",
    "\n",
    "task_set_size_vector = [i for i in range(task_set_size_min, task_set_size_max + 1)]\n",
    "\n",
    "task_set_weight_matrix = []\n",
    "task_set_period_matrix = []\n",
    "task_set_computing_time_matrix = []\n",
    "for task_set_size in task_set_size_vector:\n",
    "    j = task_set_size - task_set_size_vector[0]\n",
    "    task_set_weight_matrix.append([])\n",
    "    task_set_period_matrix.append([])\n",
    "    task_set_computing_time_matrix.append([])\n",
    "    for n in range(sets_per_size):\n",
    "        task_set_weight_matrix[j].append([])\n",
    "        task_set_period_matrix[j].append([])\n",
    "        task_set_computing_time_matrix[j].append([])\n",
    "        for i in range(task_set_size):\n",
    "            task_set_weight_matrix[j][n].append(random.randint(1, task_set_weight_upper_bound))\n",
    "            # task_set_weight_matrix[j][n].append(random.randint(\n",
    "            #     max(1, int(task_set_weight_lower_bound / task_set_size)),\n",
    "            #     max(1, int(task_set_weight_upper_bound / task_set_size))\n",
    "            #     ))\n",
    "            task_set_period_matrix[j][n].append(random.randint(10, 600))\n",
    "            task_set_computing_time_matrix[j][n].append(random.randint(1, task_set_period_matrix[j][n][i]))\n",
    "        while sum(task_set_weight_matrix[j][n]) < task_set_weight_lower_bound:\n",
    "            _pos = random.randint(0, task_set_size - 1)\n",
    "            if task_set_weight_matrix[j][n][_pos] < task_set_weight_upper_bound:\n",
    "                task_set_weight_matrix[j][n][_pos] += 1\n",
    "        while sum(task_set_weight_matrix[j][n]) > task_set_weight_upper_bound:\n",
    "            _pos = random.randint(0, task_set_size - 1)\n",
    "            if task_set_weight_matrix[j][n][_pos] > 1:\n",
    "                task_set_weight_matrix[j][n][_pos] -= 1\n",
    "            \n",
    "sum_task_set_weights = []\n",
    "for task_set_size in task_set_size_vector:\n",
    "    j = task_set_size - task_set_size_vector[0]\n",
    "    sum_task_set_weights.append([])\n",
    "    for n in range(sets_per_size):\n",
    "        sum_task_set_weights[j].append(sum(task_set_weight_matrix[j][n]))\n"
   ]
  },
  {
   "cell_type": "markdown",
   "metadata": {},
   "source": [
    "Select one task set and write header file with its parameters."
   ]
  },
  {
   "cell_type": "code",
   "execution_count": 16,
   "metadata": {},
   "outputs": [],
   "source": [
    "selected_task_set_size = 7\n",
    "selected_task_set_from_size = 1\n",
    "\n",
    "j = selected_task_set_size - task_set_size_vector[0]\n",
    "n = selected_task_set_from_size - 1\n",
    "\n",
    "f = open(\"../tasks.h\", \"w+\")\n",
    "f.write(\n",
    "\"/**\\n\"\n",
    "\" * @file tasks.h\\n\"\n",
    "\" * @author Vinicius Pimenta Bernardo (viniciuspibi@gmail.com)\\n\"\n",
    "\" * @brief This file contains the tasks definitions.\\n\"\n",
    "\" * @version 0.1\\n\"\n",
    "\" * @date 2022-02-01\\n\"\n",
    "\" * \\n\"\n",
    "\" * @copyright Copyright (c) 2022\\n\"\n",
    "\" * \\n\"\n",
    "\" */\\n\"\n",
    "\"\\n\"\n",
    "\"#ifndef TASKS_H_\\n\"\n",
    "\"#define TASKS_H_\\n\"\n",
    "\"\\n\"\n",
    "\"#include <stdint.h>\\n\"\n",
    "\"#include <stdbool.h>\\n\"\n",
    "\"\\n\"\n",
    "\"#define TASK_COUNT \" + str(selected_task_set_size) + \"\\n\"\n",
    "\"#define SUM_OF_WEIGHTS \" + str(sum_task_set_weights[j][n]) + \"\\n\"\n",
    "\"\\n\"\n",
    "\"const uint32_t      weights[TASK_COUNT] = {\"\n",
    ")\n",
    "for i in range(selected_task_set_size):\n",
    "    if i == selected_task_set_size - 1:\n",
    "        f.write(str(task_set_weight_matrix[j][n][i]))\n",
    "    else:\n",
    "        f.write(str(task_set_weight_matrix[j][n][i]) + \", \")\n",
    "f.write(\n",
    "\"};\\n\"\n",
    "\"const uint32_t      task_period[TASK_COUNT] = {\"\n",
    ")\n",
    "for i in range(selected_task_set_size):\n",
    "    if i == selected_task_set_size - 1:\n",
    "        f.write(str(task_set_period_matrix[j][n][i]))\n",
    "    else:\n",
    "        f.write(str(task_set_period_matrix[j][n][i]) + \", \")\n",
    "f.write(\n",
    "\"};\\n\"\n",
    "\"const uint32_t      task_computing_time[TASK_COUNT] = {\"\n",
    ")\n",
    "for i in range(selected_task_set_size):\n",
    "    if i == selected_task_set_size - 1:\n",
    "        f.write(str(task_set_computing_time_matrix[j][n][i]))\n",
    "    else:\n",
    "        f.write(str(task_set_computing_time_matrix[j][n][i]) + \", \")\n",
    "f.write(\n",
    "\"};\\n\"\n",
    "\"\\n\"\n",
    "\"volatile uint32_t   values[TASK_COUNT];\\n\"\n",
    "\"volatile bool       task_on_off_status[TASK_COUNT];\\n\"\n",
    "\"volatile uint32_t   task_deadline[TASK_COUNT];\\n\"\n",
    "\"volatile uint32_t   task_executed_time[TASK_COUNT];\\n\"\n",
    "\"volatile bool       task_already_executed[TASK_COUNT];\\n\"\n",
    "\"\\n\"\n",
    "\"#endif /* TASKS_H_ */\\n\"\n",
    ")\n",
    "f.close()\n"
   ]
  },
  {
   "cell_type": "code",
   "execution_count": null,
   "metadata": {},
   "outputs": [],
   "source": [
    "# Print the tasks sets\n",
    "for task_set_size in task_set_size_vector:\n",
    "    j = task_set_size - task_set_size_vector[0]\n",
    "    for n in range(sets_per_size):\n",
    "        print(task_set_weight_matrix[j][n])\n",
    "        print(task_set_period_matrix[j][n])\n",
    "        print(task_set_computing_time_matrix[j][n])\n",
    "        print(sum(task_set_weight_matrix[j][n]))"
   ]
  },
  {
   "cell_type": "markdown",
   "metadata": {},
   "source": [
    "## HIL time measurement"
   ]
  },
  {
   "cell_type": "code",
   "execution_count": 4,
   "metadata": {},
   "outputs": [],
   "source": [
    "# Import python serial\n",
    "import serial"
   ]
  },
  {
   "cell_type": "markdown",
   "metadata": {},
   "source": [
    "Find maximum number of tasks by trial and error."
   ]
  },
  {
   "cell_type": "code",
   "execution_count": 18,
   "metadata": {},
   "outputs": [],
   "source": [
    "s = serial.Serial('COM4', 9600, timeout=5)\n",
    "\n",
    "txData = [50, 30]\n",
    "for i in range(10):\n",
    "    rxData = []\n",
    "    for i in range(len(txData)):\n",
    "        s.write(bytes([txData[i]]))\n",
    "    for i in range(selected_task_set_size):\n",
    "        rxData.append(s.read())\n",
    "    print(rxData)\n",
    "\n",
    "s.close()"
   ]
  },
  {
   "cell_type": "markdown",
   "metadata": {},
   "source": [
    "Magical number is 7."
   ]
  }
 ],
 "metadata": {
  "interpreter": {
   "hash": "8b0f1b50f23810d4dc696e169baad8ec381f9be9f08cfceabb197fdec00cfe5b"
  },
  "kernelspec": {
   "display_name": "Python 3.10.0 64-bit",
   "language": "python",
   "name": "python3"
  },
  "language_info": {
   "codemirror_mode": {
    "name": "ipython",
    "version": 3
   },
   "file_extension": ".py",
   "mimetype": "text/x-python",
   "name": "python",
   "nbconvert_exporter": "python",
   "pygments_lexer": "ipython3",
   "version": "3.10.0"
  },
  "orig_nbformat": 4
 },
 "nbformat": 4,
 "nbformat_minor": 2
}
